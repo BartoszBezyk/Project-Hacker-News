{
  "nbformat": 4,
  "nbformat_minor": 0,
  "metadata": {
    "colab": {
      "provenance": [],
      "toc_visible": true
    },
    "kernelspec": {
      "name": "python3",
      "display_name": "Python 3"
    },
    "language_info": {
      "name": "python"
    }
  },
  "cells": [
    {
      "cell_type": "markdown",
      "source": [
        "# Project Hacker News"
      ],
      "metadata": {
        "id": "4DzefdOEsyVz"
      }
    },
    {
      "cell_type": "markdown",
      "source": [
        "Hacker News is a site started by the startup incubator Y Combinator, where user-submitted stories (known as \"posts\") are voted and commented upon, similar to reddit. Hacker News is extremely popular in technology and startup circles, and posts that make it to the top of Hacker News' listings can get hundreds of thousands of visitors as a result.\n",
        "\n",
        "We're specifically interested in posts whose titles begin with either Ask HN or Show HN. Users submit Ask HN posts to ask the Hacker News community a specific question.\n",
        "\n",
        "Likewise, users submit Show HN posts to show the Hacker News community a project, product, or just generally something interesting.\n",
        "\n",
        "We'll compare these two types of posts to determine the following:\n",
        "\n",
        "Do Ask HN or Show HN receive more comments on average?\n",
        "Do posts created at a certain time receive more comments on average?"
      ],
      "metadata": {
        "id": "L8f7mstqsck_"
      }
    },
    {
      "cell_type": "code",
      "source": [
        "from csv import reader\n",
        "import pandas as pd"
      ],
      "metadata": {
        "id": "LKZPUcBsqkui"
      },
      "execution_count": 1,
      "outputs": []
    },
    {
      "cell_type": "code",
      "source": [
        "!wget http://bioinf-mw.bihz.upwr.edu.pl/students-data/Data-Cleaning-Advanced/hacker_news.csv"
      ],
      "metadata": {
        "colab": {
          "base_uri": "https://localhost:8080/"
        },
        "id": "wxFhboMlqliR",
        "outputId": "e1002f3c-db9b-4be8-a312-dcf874d4077a"
      },
      "execution_count": 2,
      "outputs": [
        {
          "output_type": "stream",
          "name": "stdout",
          "text": [
            "--2023-04-16 13:11:01--  http://bioinf-mw.bihz.upwr.edu.pl/students-data/Data-Cleaning-Advanced/hacker_news.csv\n",
            "Resolving bioinf-mw.bihz.upwr.edu.pl (bioinf-mw.bihz.upwr.edu.pl)... 156.17.187.238\n",
            "Connecting to bioinf-mw.bihz.upwr.edu.pl (bioinf-mw.bihz.upwr.edu.pl)|156.17.187.238|:80... connected.\n",
            "HTTP request sent, awaiting response... 200 OK\n",
            "Length: 3104774 (3.0M) [text/csv]\n",
            "Saving to: ‘hacker_news.csv’\n",
            "\n",
            "hacker_news.csv     100%[===================>]   2.96M   882KB/s    in 4.2s    \n",
            "\n",
            "2023-04-16 13:11:06 (718 KB/s) - ‘hacker_news.csv’ saved [3104774/3104774]\n",
            "\n"
          ]
        }
      ]
    },
    {
      "cell_type": "markdown",
      "source": [
        "Opening data as list of list and as dataframe"
      ],
      "metadata": {
        "id": "U_0MNRhwr1lN"
      }
    },
    {
      "cell_type": "code",
      "source": [
        "open_file = open('hacker_news.csv')\n",
        "read_file = reader(open_file)\n",
        "hn = list(read_file)\n",
        "hn_main = hn[1:]\n",
        "hn_header = hn[:1]\n",
        "df = pd.DataFrame(hn_main)\n",
        "df_header = pd.DataFrame(hn_header)"
      ],
      "metadata": {
        "id": "e9DW3d0Er061"
      },
      "execution_count": 3,
      "outputs": []
    },
    {
      "cell_type": "code",
      "source": [
        "hn_header"
      ],
      "metadata": {
        "colab": {
          "base_uri": "https://localhost:8080/"
        },
        "id": "_EgbeJc9s6qB",
        "outputId": "f7d07af2-0c96-4ac0-ef4c-07263ae023a1"
      },
      "execution_count": 4,
      "outputs": [
        {
          "output_type": "execute_result",
          "data": {
            "text/plain": [
              "[['id', 'title', 'url', 'num_points', 'num_comments', 'author', 'created_at']]"
            ]
          },
          "metadata": {},
          "execution_count": 4
        }
      ]
    },
    {
      "cell_type": "code",
      "source": [
        "df[:5]"
      ],
      "metadata": {
        "colab": {
          "base_uri": "https://localhost:8080/",
          "height": 206
        },
        "id": "3K23i_nbsQjA",
        "outputId": "cfdf47d9-f382-4a9f-8a68-c068edd07629"
      },
      "execution_count": 5,
      "outputs": [
        {
          "output_type": "execute_result",
          "data": {
            "text/plain": [
              "          0                                                  1  \\\n",
              "0  12224879                          Interactive Dynamic Video   \n",
              "1  11964716  Florida DJs May Face Felony for April Fools' W...   \n",
              "2  11919867       Technology ventures: From Idea to Enterprise   \n",
              "3  10301696  Note by Note: The Making of Steinway L1037 (2007)   \n",
              "4  10482257  Title II kills investment? Comcast and other I...   \n",
              "\n",
              "                                                   2    3   4           5  \\\n",
              "0            http://www.interactivedynamicvideo.com/  386  52    ne0phyte   \n",
              "1  http://www.thewire.com/entertainment/2013/04/f...    2   1    vezycash   \n",
              "2  https://www.amazon.com/Technology-Ventures-Ent...    3   1     hswarna   \n",
              "3  http://www.nytimes.com/2007/11/07/movies/07ste...    8   2  walterbell   \n",
              "4  http://arstechnica.com/business/2015/10/comcas...   53  22      Deinos   \n",
              "\n",
              "                 6  \n",
              "0   8/4/2016 11:52  \n",
              "1  6/23/2016 22:20  \n",
              "2   6/17/2016 0:01  \n",
              "3   9/30/2015 4:12  \n",
              "4  10/31/2015 9:48  "
            ],
            "text/html": [
              "\n",
              "  <div id=\"df-ea481069-56a4-4dad-be2c-4b34df6c5212\">\n",
              "    <div class=\"colab-df-container\">\n",
              "      <div>\n",
              "<style scoped>\n",
              "    .dataframe tbody tr th:only-of-type {\n",
              "        vertical-align: middle;\n",
              "    }\n",
              "\n",
              "    .dataframe tbody tr th {\n",
              "        vertical-align: top;\n",
              "    }\n",
              "\n",
              "    .dataframe thead th {\n",
              "        text-align: right;\n",
              "    }\n",
              "</style>\n",
              "<table border=\"1\" class=\"dataframe\">\n",
              "  <thead>\n",
              "    <tr style=\"text-align: right;\">\n",
              "      <th></th>\n",
              "      <th>0</th>\n",
              "      <th>1</th>\n",
              "      <th>2</th>\n",
              "      <th>3</th>\n",
              "      <th>4</th>\n",
              "      <th>5</th>\n",
              "      <th>6</th>\n",
              "    </tr>\n",
              "  </thead>\n",
              "  <tbody>\n",
              "    <tr>\n",
              "      <th>0</th>\n",
              "      <td>12224879</td>\n",
              "      <td>Interactive Dynamic Video</td>\n",
              "      <td>http://www.interactivedynamicvideo.com/</td>\n",
              "      <td>386</td>\n",
              "      <td>52</td>\n",
              "      <td>ne0phyte</td>\n",
              "      <td>8/4/2016 11:52</td>\n",
              "    </tr>\n",
              "    <tr>\n",
              "      <th>1</th>\n",
              "      <td>11964716</td>\n",
              "      <td>Florida DJs May Face Felony for April Fools' W...</td>\n",
              "      <td>http://www.thewire.com/entertainment/2013/04/f...</td>\n",
              "      <td>2</td>\n",
              "      <td>1</td>\n",
              "      <td>vezycash</td>\n",
              "      <td>6/23/2016 22:20</td>\n",
              "    </tr>\n",
              "    <tr>\n",
              "      <th>2</th>\n",
              "      <td>11919867</td>\n",
              "      <td>Technology ventures: From Idea to Enterprise</td>\n",
              "      <td>https://www.amazon.com/Technology-Ventures-Ent...</td>\n",
              "      <td>3</td>\n",
              "      <td>1</td>\n",
              "      <td>hswarna</td>\n",
              "      <td>6/17/2016 0:01</td>\n",
              "    </tr>\n",
              "    <tr>\n",
              "      <th>3</th>\n",
              "      <td>10301696</td>\n",
              "      <td>Note by Note: The Making of Steinway L1037 (2007)</td>\n",
              "      <td>http://www.nytimes.com/2007/11/07/movies/07ste...</td>\n",
              "      <td>8</td>\n",
              "      <td>2</td>\n",
              "      <td>walterbell</td>\n",
              "      <td>9/30/2015 4:12</td>\n",
              "    </tr>\n",
              "    <tr>\n",
              "      <th>4</th>\n",
              "      <td>10482257</td>\n",
              "      <td>Title II kills investment? Comcast and other I...</td>\n",
              "      <td>http://arstechnica.com/business/2015/10/comcas...</td>\n",
              "      <td>53</td>\n",
              "      <td>22</td>\n",
              "      <td>Deinos</td>\n",
              "      <td>10/31/2015 9:48</td>\n",
              "    </tr>\n",
              "  </tbody>\n",
              "</table>\n",
              "</div>\n",
              "      <button class=\"colab-df-convert\" onclick=\"convertToInteractive('df-ea481069-56a4-4dad-be2c-4b34df6c5212')\"\n",
              "              title=\"Convert this dataframe to an interactive table.\"\n",
              "              style=\"display:none;\">\n",
              "        \n",
              "  <svg xmlns=\"http://www.w3.org/2000/svg\" height=\"24px\"viewBox=\"0 0 24 24\"\n",
              "       width=\"24px\">\n",
              "    <path d=\"M0 0h24v24H0V0z\" fill=\"none\"/>\n",
              "    <path d=\"M18.56 5.44l.94 2.06.94-2.06 2.06-.94-2.06-.94-.94-2.06-.94 2.06-2.06.94zm-11 1L8.5 8.5l.94-2.06 2.06-.94-2.06-.94L8.5 2.5l-.94 2.06-2.06.94zm10 10l.94 2.06.94-2.06 2.06-.94-2.06-.94-.94-2.06-.94 2.06-2.06.94z\"/><path d=\"M17.41 7.96l-1.37-1.37c-.4-.4-.92-.59-1.43-.59-.52 0-1.04.2-1.43.59L10.3 9.45l-7.72 7.72c-.78.78-.78 2.05 0 2.83L4 21.41c.39.39.9.59 1.41.59.51 0 1.02-.2 1.41-.59l7.78-7.78 2.81-2.81c.8-.78.8-2.07 0-2.86zM5.41 20L4 18.59l7.72-7.72 1.47 1.35L5.41 20z\"/>\n",
              "  </svg>\n",
              "      </button>\n",
              "      \n",
              "  <style>\n",
              "    .colab-df-container {\n",
              "      display:flex;\n",
              "      flex-wrap:wrap;\n",
              "      gap: 12px;\n",
              "    }\n",
              "\n",
              "    .colab-df-convert {\n",
              "      background-color: #E8F0FE;\n",
              "      border: none;\n",
              "      border-radius: 50%;\n",
              "      cursor: pointer;\n",
              "      display: none;\n",
              "      fill: #1967D2;\n",
              "      height: 32px;\n",
              "      padding: 0 0 0 0;\n",
              "      width: 32px;\n",
              "    }\n",
              "\n",
              "    .colab-df-convert:hover {\n",
              "      background-color: #E2EBFA;\n",
              "      box-shadow: 0px 1px 2px rgba(60, 64, 67, 0.3), 0px 1px 3px 1px rgba(60, 64, 67, 0.15);\n",
              "      fill: #174EA6;\n",
              "    }\n",
              "\n",
              "    [theme=dark] .colab-df-convert {\n",
              "      background-color: #3B4455;\n",
              "      fill: #D2E3FC;\n",
              "    }\n",
              "\n",
              "    [theme=dark] .colab-df-convert:hover {\n",
              "      background-color: #434B5C;\n",
              "      box-shadow: 0px 1px 3px 1px rgba(0, 0, 0, 0.15);\n",
              "      filter: drop-shadow(0px 1px 2px rgba(0, 0, 0, 0.3));\n",
              "      fill: #FFFFFF;\n",
              "    }\n",
              "  </style>\n",
              "\n",
              "      <script>\n",
              "        const buttonEl =\n",
              "          document.querySelector('#df-ea481069-56a4-4dad-be2c-4b34df6c5212 button.colab-df-convert');\n",
              "        buttonEl.style.display =\n",
              "          google.colab.kernel.accessAllowed ? 'block' : 'none';\n",
              "\n",
              "        async function convertToInteractive(key) {\n",
              "          const element = document.querySelector('#df-ea481069-56a4-4dad-be2c-4b34df6c5212');\n",
              "          const dataTable =\n",
              "            await google.colab.kernel.invokeFunction('convertToInteractive',\n",
              "                                                     [key], {});\n",
              "          if (!dataTable) return;\n",
              "\n",
              "          const docLinkHtml = 'Like what you see? Visit the ' +\n",
              "            '<a target=\"_blank\" href=https://colab.research.google.com/notebooks/data_table.ipynb>data table notebook</a>'\n",
              "            + ' to learn more about interactive tables.';\n",
              "          element.innerHTML = '';\n",
              "          dataTable['output_type'] = 'display_data';\n",
              "          await google.colab.output.renderOutput(dataTable, element);\n",
              "          const docLink = document.createElement('div');\n",
              "          docLink.innerHTML = docLinkHtml;\n",
              "          element.appendChild(docLink);\n",
              "        }\n",
              "      </script>\n",
              "    </div>\n",
              "  </div>\n",
              "  "
            ]
          },
          "metadata": {},
          "execution_count": 5
        }
      ]
    },
    {
      "cell_type": "markdown",
      "source": [
        "Function that creates dataframe from given input"
      ],
      "metadata": {
        "id": "BeRCdzy4tGlg"
      }
    },
    {
      "cell_type": "code",
      "source": [
        "def dt(aaa):\n",
        "  dt = pd.DataFrame(aaa)\n",
        "  return dt"
      ],
      "metadata": {
        "id": "UIsdxA5Hs4Bu"
      },
      "execution_count": 6,
      "outputs": []
    },
    {
      "cell_type": "markdown",
      "source": [
        "Creating an empty lists for separating specific posts"
      ],
      "metadata": {
        "id": "rr1eGXCLtUlS"
      }
    },
    {
      "cell_type": "code",
      "source": [
        "ask_posts = []\n",
        "show_posts = []\n",
        "other_posts = []"
      ],
      "metadata": {
        "id": "2mc103nQtTdq"
      },
      "execution_count": 7,
      "outputs": []
    },
    {
      "cell_type": "markdown",
      "source": [
        "Checking if the title of the post starts with 'ask  hn', 'show hn' or other title and appendig this post to correct list"
      ],
      "metadata": {
        "id": "715YIxRzthlJ"
      }
    },
    {
      "cell_type": "code",
      "source": [
        "for row in hn_main:\n",
        "  title = row[1]\n",
        "  title_lower = title.lower()\n",
        "\n",
        "  if (title_lower.startswith('ask hn')):\n",
        "    ask_posts.append(row)\n",
        "  elif (title_lower.startswith('show hn')):\n",
        "    show_posts.append(row)\n",
        "  else:\n",
        "    other_posts.append(row)\n"
      ],
      "metadata": {
        "id": "HFCg36YctfFG"
      },
      "execution_count": 8,
      "outputs": []
    },
    {
      "cell_type": "code",
      "source": [
        "dt(other_posts[:5])"
      ],
      "metadata": {
        "colab": {
          "base_uri": "https://localhost:8080/",
          "height": 206
        },
        "id": "nW-FTCjZuFel",
        "outputId": "ca169fa1-7f79-4edb-91cb-bd738996735d"
      },
      "execution_count": 9,
      "outputs": [
        {
          "output_type": "execute_result",
          "data": {
            "text/plain": [
              "          0                                                  1  \\\n",
              "0  12224879                          Interactive Dynamic Video   \n",
              "1  11964716  Florida DJs May Face Felony for April Fools' W...   \n",
              "2  11919867       Technology ventures: From Idea to Enterprise   \n",
              "3  10301696  Note by Note: The Making of Steinway L1037 (2007)   \n",
              "4  10482257  Title II kills investment? Comcast and other I...   \n",
              "\n",
              "                                                   2    3   4           5  \\\n",
              "0            http://www.interactivedynamicvideo.com/  386  52    ne0phyte   \n",
              "1  http://www.thewire.com/entertainment/2013/04/f...    2   1    vezycash   \n",
              "2  https://www.amazon.com/Technology-Ventures-Ent...    3   1     hswarna   \n",
              "3  http://www.nytimes.com/2007/11/07/movies/07ste...    8   2  walterbell   \n",
              "4  http://arstechnica.com/business/2015/10/comcas...   53  22      Deinos   \n",
              "\n",
              "                 6  \n",
              "0   8/4/2016 11:52  \n",
              "1  6/23/2016 22:20  \n",
              "2   6/17/2016 0:01  \n",
              "3   9/30/2015 4:12  \n",
              "4  10/31/2015 9:48  "
            ],
            "text/html": [
              "\n",
              "  <div id=\"df-c7362ff0-ad2d-4198-8400-8a1720b6d0a3\">\n",
              "    <div class=\"colab-df-container\">\n",
              "      <div>\n",
              "<style scoped>\n",
              "    .dataframe tbody tr th:only-of-type {\n",
              "        vertical-align: middle;\n",
              "    }\n",
              "\n",
              "    .dataframe tbody tr th {\n",
              "        vertical-align: top;\n",
              "    }\n",
              "\n",
              "    .dataframe thead th {\n",
              "        text-align: right;\n",
              "    }\n",
              "</style>\n",
              "<table border=\"1\" class=\"dataframe\">\n",
              "  <thead>\n",
              "    <tr style=\"text-align: right;\">\n",
              "      <th></th>\n",
              "      <th>0</th>\n",
              "      <th>1</th>\n",
              "      <th>2</th>\n",
              "      <th>3</th>\n",
              "      <th>4</th>\n",
              "      <th>5</th>\n",
              "      <th>6</th>\n",
              "    </tr>\n",
              "  </thead>\n",
              "  <tbody>\n",
              "    <tr>\n",
              "      <th>0</th>\n",
              "      <td>12224879</td>\n",
              "      <td>Interactive Dynamic Video</td>\n",
              "      <td>http://www.interactivedynamicvideo.com/</td>\n",
              "      <td>386</td>\n",
              "      <td>52</td>\n",
              "      <td>ne0phyte</td>\n",
              "      <td>8/4/2016 11:52</td>\n",
              "    </tr>\n",
              "    <tr>\n",
              "      <th>1</th>\n",
              "      <td>11964716</td>\n",
              "      <td>Florida DJs May Face Felony for April Fools' W...</td>\n",
              "      <td>http://www.thewire.com/entertainment/2013/04/f...</td>\n",
              "      <td>2</td>\n",
              "      <td>1</td>\n",
              "      <td>vezycash</td>\n",
              "      <td>6/23/2016 22:20</td>\n",
              "    </tr>\n",
              "    <tr>\n",
              "      <th>2</th>\n",
              "      <td>11919867</td>\n",
              "      <td>Technology ventures: From Idea to Enterprise</td>\n",
              "      <td>https://www.amazon.com/Technology-Ventures-Ent...</td>\n",
              "      <td>3</td>\n",
              "      <td>1</td>\n",
              "      <td>hswarna</td>\n",
              "      <td>6/17/2016 0:01</td>\n",
              "    </tr>\n",
              "    <tr>\n",
              "      <th>3</th>\n",
              "      <td>10301696</td>\n",
              "      <td>Note by Note: The Making of Steinway L1037 (2007)</td>\n",
              "      <td>http://www.nytimes.com/2007/11/07/movies/07ste...</td>\n",
              "      <td>8</td>\n",
              "      <td>2</td>\n",
              "      <td>walterbell</td>\n",
              "      <td>9/30/2015 4:12</td>\n",
              "    </tr>\n",
              "    <tr>\n",
              "      <th>4</th>\n",
              "      <td>10482257</td>\n",
              "      <td>Title II kills investment? Comcast and other I...</td>\n",
              "      <td>http://arstechnica.com/business/2015/10/comcas...</td>\n",
              "      <td>53</td>\n",
              "      <td>22</td>\n",
              "      <td>Deinos</td>\n",
              "      <td>10/31/2015 9:48</td>\n",
              "    </tr>\n",
              "  </tbody>\n",
              "</table>\n",
              "</div>\n",
              "      <button class=\"colab-df-convert\" onclick=\"convertToInteractive('df-c7362ff0-ad2d-4198-8400-8a1720b6d0a3')\"\n",
              "              title=\"Convert this dataframe to an interactive table.\"\n",
              "              style=\"display:none;\">\n",
              "        \n",
              "  <svg xmlns=\"http://www.w3.org/2000/svg\" height=\"24px\"viewBox=\"0 0 24 24\"\n",
              "       width=\"24px\">\n",
              "    <path d=\"M0 0h24v24H0V0z\" fill=\"none\"/>\n",
              "    <path d=\"M18.56 5.44l.94 2.06.94-2.06 2.06-.94-2.06-.94-.94-2.06-.94 2.06-2.06.94zm-11 1L8.5 8.5l.94-2.06 2.06-.94-2.06-.94L8.5 2.5l-.94 2.06-2.06.94zm10 10l.94 2.06.94-2.06 2.06-.94-2.06-.94-.94-2.06-.94 2.06-2.06.94z\"/><path d=\"M17.41 7.96l-1.37-1.37c-.4-.4-.92-.59-1.43-.59-.52 0-1.04.2-1.43.59L10.3 9.45l-7.72 7.72c-.78.78-.78 2.05 0 2.83L4 21.41c.39.39.9.59 1.41.59.51 0 1.02-.2 1.41-.59l7.78-7.78 2.81-2.81c.8-.78.8-2.07 0-2.86zM5.41 20L4 18.59l7.72-7.72 1.47 1.35L5.41 20z\"/>\n",
              "  </svg>\n",
              "      </button>\n",
              "      \n",
              "  <style>\n",
              "    .colab-df-container {\n",
              "      display:flex;\n",
              "      flex-wrap:wrap;\n",
              "      gap: 12px;\n",
              "    }\n",
              "\n",
              "    .colab-df-convert {\n",
              "      background-color: #E8F0FE;\n",
              "      border: none;\n",
              "      border-radius: 50%;\n",
              "      cursor: pointer;\n",
              "      display: none;\n",
              "      fill: #1967D2;\n",
              "      height: 32px;\n",
              "      padding: 0 0 0 0;\n",
              "      width: 32px;\n",
              "    }\n",
              "\n",
              "    .colab-df-convert:hover {\n",
              "      background-color: #E2EBFA;\n",
              "      box-shadow: 0px 1px 2px rgba(60, 64, 67, 0.3), 0px 1px 3px 1px rgba(60, 64, 67, 0.15);\n",
              "      fill: #174EA6;\n",
              "    }\n",
              "\n",
              "    [theme=dark] .colab-df-convert {\n",
              "      background-color: #3B4455;\n",
              "      fill: #D2E3FC;\n",
              "    }\n",
              "\n",
              "    [theme=dark] .colab-df-convert:hover {\n",
              "      background-color: #434B5C;\n",
              "      box-shadow: 0px 1px 3px 1px rgba(0, 0, 0, 0.15);\n",
              "      filter: drop-shadow(0px 1px 2px rgba(0, 0, 0, 0.3));\n",
              "      fill: #FFFFFF;\n",
              "    }\n",
              "  </style>\n",
              "\n",
              "      <script>\n",
              "        const buttonEl =\n",
              "          document.querySelector('#df-c7362ff0-ad2d-4198-8400-8a1720b6d0a3 button.colab-df-convert');\n",
              "        buttonEl.style.display =\n",
              "          google.colab.kernel.accessAllowed ? 'block' : 'none';\n",
              "\n",
              "        async function convertToInteractive(key) {\n",
              "          const element = document.querySelector('#df-c7362ff0-ad2d-4198-8400-8a1720b6d0a3');\n",
              "          const dataTable =\n",
              "            await google.colab.kernel.invokeFunction('convertToInteractive',\n",
              "                                                     [key], {});\n",
              "          if (!dataTable) return;\n",
              "\n",
              "          const docLinkHtml = 'Like what you see? Visit the ' +\n",
              "            '<a target=\"_blank\" href=https://colab.research.google.com/notebooks/data_table.ipynb>data table notebook</a>'\n",
              "            + ' to learn more about interactive tables.';\n",
              "          element.innerHTML = '';\n",
              "          dataTable['output_type'] = 'display_data';\n",
              "          await google.colab.output.renderOutput(dataTable, element);\n",
              "          const docLink = document.createElement('div');\n",
              "          docLink.innerHTML = docLinkHtml;\n",
              "          element.appendChild(docLink);\n",
              "        }\n",
              "      </script>\n",
              "    </div>\n",
              "  </div>\n",
              "  "
            ]
          },
          "metadata": {},
          "execution_count": 9
        }
      ]
    },
    {
      "cell_type": "markdown",
      "source": [
        "Checking the number of each post type"
      ],
      "metadata": {
        "id": "EEZRWS18uOdH"
      }
    },
    {
      "cell_type": "code",
      "source": [
        "print('Number of asking posts: ' + str(len(ask_posts)))\n",
        "print('Number of showing posts: ' + str(len(show_posts)))\n",
        "print('Number  of other posts: ' + str(len(other_posts)))"
      ],
      "metadata": {
        "colab": {
          "base_uri": "https://localhost:8080/"
        },
        "id": "TopJUDu4uIwK",
        "outputId": "80e47906-8e3c-45d7-aa45-a075dc735cf1"
      },
      "execution_count": 10,
      "outputs": [
        {
          "output_type": "stream",
          "name": "stdout",
          "text": [
            "Number of asking posts: 1744\n",
            "Number of showing posts: 1162\n",
            "Number  of other posts: 17193\n"
          ]
        }
      ]
    },
    {
      "cell_type": "markdown",
      "source": [
        "Counting total number of comments in ask type posts."
      ],
      "metadata": {
        "id": "tMEA87aTuXE4"
      }
    },
    {
      "cell_type": "code",
      "source": [
        "total_ask_comm = 0\n",
        "\n",
        "for row in ask_posts:\n",
        "  comms = int(row[4])\n",
        "  total_ask_comm += comms\n",
        "\n",
        "print('Total number of ask type posts comments: ' + str(total_ask_comm))"
      ],
      "metadata": {
        "colab": {
          "base_uri": "https://localhost:8080/"
        },
        "id": "pze8DOIMuThC",
        "outputId": "b948c23d-bfbe-4a24-cf03-e2c0a4c1a07e"
      },
      "execution_count": 11,
      "outputs": [
        {
          "output_type": "stream",
          "name": "stdout",
          "text": [
            "Total number of ask type posts comments: 24483\n"
          ]
        }
      ]
    },
    {
      "cell_type": "markdown",
      "source": [
        "Computing average number of comments of ask type posts comments"
      ],
      "metadata": {
        "id": "-tzkrbb8vGIp"
      }
    },
    {
      "cell_type": "code",
      "source": [
        "avg_ask_comm =round(total_ask_comm/len(ask_posts))\n",
        "print('Avergae number of ask type posts comments: ' + str(avg_ask_comm))"
      ],
      "metadata": {
        "colab": {
          "base_uri": "https://localhost:8080/"
        },
        "id": "JPiR3v6JutE9",
        "outputId": "0fb9ebfa-8415-4801-f3a7-c62bc972c1f7"
      },
      "execution_count": 12,
      "outputs": [
        {
          "output_type": "stream",
          "name": "stdout",
          "text": [
            "Avergae number of ask type posts comments: 14\n"
          ]
        }
      ]
    },
    {
      "cell_type": "markdown",
      "source": [
        "Counting total number of comments in show type posts."
      ],
      "metadata": {
        "id": "bluEdmXnvl5U"
      }
    },
    {
      "cell_type": "code",
      "source": [
        "total_show_comms = 0\n",
        "\n",
        "for row in show_posts:\n",
        "  comms = int(row[4])\n",
        "  total_show_comms += comms\n",
        "\n",
        "print('Total number of show type posts comments: ' + str(total_show_comms))"
      ],
      "metadata": {
        "colab": {
          "base_uri": "https://localhost:8080/"
        },
        "id": "reuveBhwvZoD",
        "outputId": "b22e6fb2-a893-42a5-8f95-a734c66b3ba0"
      },
      "execution_count": 13,
      "outputs": [
        {
          "output_type": "stream",
          "name": "stdout",
          "text": [
            "Total number of show type posts comments: 11988\n"
          ]
        }
      ]
    },
    {
      "cell_type": "markdown",
      "source": [
        "Computing average number of comments of show type posts comments"
      ],
      "metadata": {
        "id": "SdgbRE12v_lo"
      }
    },
    {
      "cell_type": "code",
      "source": [
        "avg_show_comms = round(total_show_comms/(len(show_posts)))\n",
        "print('Avergae number of show type posts comments: ' + str(avg_show_comms))"
      ],
      "metadata": {
        "colab": {
          "base_uri": "https://localhost:8080/"
        },
        "id": "3f7T5d34v3-2",
        "outputId": "079de295-91e3-4565-8164-996014889482"
      },
      "execution_count": 14,
      "outputs": [
        {
          "output_type": "stream",
          "name": "stdout",
          "text": [
            "Avergae number of show type posts comments: 10\n"
          ]
        }
      ]
    },
    {
      "cell_type": "markdown",
      "source": [
        "Counting total number of comments in other type posts."
      ],
      "metadata": {
        "id": "-rP73XUIwFoq"
      }
    },
    {
      "cell_type": "code",
      "source": [
        "total_other_comm = 0\n",
        "\n",
        "for row in other_posts:\n",
        "    comms = int(row[4])\n",
        "    total_other_comm = total_other_comm + comms\n",
        "    \n",
        "print('Total number of other type posts comments: ' + str(total_other_comm))"
      ],
      "metadata": {
        "colab": {
          "base_uri": "https://localhost:8080/"
        },
        "id": "52xb94KBv-ND",
        "outputId": "0a5ad290-4479-4a5f-f0d5-0af82167ff4b"
      },
      "execution_count": 15,
      "outputs": [
        {
          "output_type": "stream",
          "name": "stdout",
          "text": [
            "Total number of other type posts comments: 462045\n"
          ]
        }
      ]
    },
    {
      "cell_type": "markdown",
      "source": [
        "Computing average number of comments of other type posts comments"
      ],
      "metadata": {
        "id": "1NfR9GMcwLF0"
      }
    },
    {
      "cell_type": "code",
      "source": [
        "avg_other_comm = round(total_other_comm/(len(other_posts)))\n",
        "print('Avergae number of other type posts comments: ' + str(avg_other_comm))"
      ],
      "metadata": {
        "colab": {
          "base_uri": "https://localhost:8080/"
        },
        "id": "K58Qdye8wJAG",
        "outputId": "6fb1f15d-30c9-4313-bf1e-a945eec3d1fb"
      },
      "execution_count": 16,
      "outputs": [
        {
          "output_type": "stream",
          "name": "stdout",
          "text": [
            "Avergae number of other type posts comments: 27\n"
          ]
        }
      ]
    },
    {
      "cell_type": "code",
      "source": [
        "dt(ask_posts[:5])"
      ],
      "metadata": {
        "colab": {
          "base_uri": "https://localhost:8080/",
          "height": 206
        },
        "id": "l51ddKBtwMp-",
        "outputId": "66e51182-3e12-4e52-f23a-7d7d0b0bb5eb"
      },
      "execution_count": 17,
      "outputs": [
        {
          "output_type": "execute_result",
          "data": {
            "text/plain": [
              "          0                                                  1 2   3   4  \\\n",
              "0  12296411        Ask HN: How to improve my personal website?     2   6   \n",
              "1  10610020  Ask HN: Am I the only one outraged by Twitter ...    28  29   \n",
              "2  11610310  Ask HN: Aby recent changes to CSS that broke m...     1   1   \n",
              "3  12210105    Ask HN: Looking for Employee #3 How do I do it?     1   3   \n",
              "4  10394168  Ask HN: Someone offered to buy my browser exte...    28  17   \n",
              "\n",
              "              5                 6  \n",
              "0  ahmedbaracat    8/16/2016 9:55  \n",
              "1          tkfx  11/22/2015 13:43  \n",
              "2     polskibus    5/2/2016 10:14  \n",
              "3        sph130    8/2/2016 14:20  \n",
              "4      roykolak  10/15/2015 16:38  "
            ],
            "text/html": [
              "\n",
              "  <div id=\"df-f4512132-71cf-4639-8cf7-00bd4e17e633\">\n",
              "    <div class=\"colab-df-container\">\n",
              "      <div>\n",
              "<style scoped>\n",
              "    .dataframe tbody tr th:only-of-type {\n",
              "        vertical-align: middle;\n",
              "    }\n",
              "\n",
              "    .dataframe tbody tr th {\n",
              "        vertical-align: top;\n",
              "    }\n",
              "\n",
              "    .dataframe thead th {\n",
              "        text-align: right;\n",
              "    }\n",
              "</style>\n",
              "<table border=\"1\" class=\"dataframe\">\n",
              "  <thead>\n",
              "    <tr style=\"text-align: right;\">\n",
              "      <th></th>\n",
              "      <th>0</th>\n",
              "      <th>1</th>\n",
              "      <th>2</th>\n",
              "      <th>3</th>\n",
              "      <th>4</th>\n",
              "      <th>5</th>\n",
              "      <th>6</th>\n",
              "    </tr>\n",
              "  </thead>\n",
              "  <tbody>\n",
              "    <tr>\n",
              "      <th>0</th>\n",
              "      <td>12296411</td>\n",
              "      <td>Ask HN: How to improve my personal website?</td>\n",
              "      <td></td>\n",
              "      <td>2</td>\n",
              "      <td>6</td>\n",
              "      <td>ahmedbaracat</td>\n",
              "      <td>8/16/2016 9:55</td>\n",
              "    </tr>\n",
              "    <tr>\n",
              "      <th>1</th>\n",
              "      <td>10610020</td>\n",
              "      <td>Ask HN: Am I the only one outraged by Twitter ...</td>\n",
              "      <td></td>\n",
              "      <td>28</td>\n",
              "      <td>29</td>\n",
              "      <td>tkfx</td>\n",
              "      <td>11/22/2015 13:43</td>\n",
              "    </tr>\n",
              "    <tr>\n",
              "      <th>2</th>\n",
              "      <td>11610310</td>\n",
              "      <td>Ask HN: Aby recent changes to CSS that broke m...</td>\n",
              "      <td></td>\n",
              "      <td>1</td>\n",
              "      <td>1</td>\n",
              "      <td>polskibus</td>\n",
              "      <td>5/2/2016 10:14</td>\n",
              "    </tr>\n",
              "    <tr>\n",
              "      <th>3</th>\n",
              "      <td>12210105</td>\n",
              "      <td>Ask HN: Looking for Employee #3 How do I do it?</td>\n",
              "      <td></td>\n",
              "      <td>1</td>\n",
              "      <td>3</td>\n",
              "      <td>sph130</td>\n",
              "      <td>8/2/2016 14:20</td>\n",
              "    </tr>\n",
              "    <tr>\n",
              "      <th>4</th>\n",
              "      <td>10394168</td>\n",
              "      <td>Ask HN: Someone offered to buy my browser exte...</td>\n",
              "      <td></td>\n",
              "      <td>28</td>\n",
              "      <td>17</td>\n",
              "      <td>roykolak</td>\n",
              "      <td>10/15/2015 16:38</td>\n",
              "    </tr>\n",
              "  </tbody>\n",
              "</table>\n",
              "</div>\n",
              "      <button class=\"colab-df-convert\" onclick=\"convertToInteractive('df-f4512132-71cf-4639-8cf7-00bd4e17e633')\"\n",
              "              title=\"Convert this dataframe to an interactive table.\"\n",
              "              style=\"display:none;\">\n",
              "        \n",
              "  <svg xmlns=\"http://www.w3.org/2000/svg\" height=\"24px\"viewBox=\"0 0 24 24\"\n",
              "       width=\"24px\">\n",
              "    <path d=\"M0 0h24v24H0V0z\" fill=\"none\"/>\n",
              "    <path d=\"M18.56 5.44l.94 2.06.94-2.06 2.06-.94-2.06-.94-.94-2.06-.94 2.06-2.06.94zm-11 1L8.5 8.5l.94-2.06 2.06-.94-2.06-.94L8.5 2.5l-.94 2.06-2.06.94zm10 10l.94 2.06.94-2.06 2.06-.94-2.06-.94-.94-2.06-.94 2.06-2.06.94z\"/><path d=\"M17.41 7.96l-1.37-1.37c-.4-.4-.92-.59-1.43-.59-.52 0-1.04.2-1.43.59L10.3 9.45l-7.72 7.72c-.78.78-.78 2.05 0 2.83L4 21.41c.39.39.9.59 1.41.59.51 0 1.02-.2 1.41-.59l7.78-7.78 2.81-2.81c.8-.78.8-2.07 0-2.86zM5.41 20L4 18.59l7.72-7.72 1.47 1.35L5.41 20z\"/>\n",
              "  </svg>\n",
              "      </button>\n",
              "      \n",
              "  <style>\n",
              "    .colab-df-container {\n",
              "      display:flex;\n",
              "      flex-wrap:wrap;\n",
              "      gap: 12px;\n",
              "    }\n",
              "\n",
              "    .colab-df-convert {\n",
              "      background-color: #E8F0FE;\n",
              "      border: none;\n",
              "      border-radius: 50%;\n",
              "      cursor: pointer;\n",
              "      display: none;\n",
              "      fill: #1967D2;\n",
              "      height: 32px;\n",
              "      padding: 0 0 0 0;\n",
              "      width: 32px;\n",
              "    }\n",
              "\n",
              "    .colab-df-convert:hover {\n",
              "      background-color: #E2EBFA;\n",
              "      box-shadow: 0px 1px 2px rgba(60, 64, 67, 0.3), 0px 1px 3px 1px rgba(60, 64, 67, 0.15);\n",
              "      fill: #174EA6;\n",
              "    }\n",
              "\n",
              "    [theme=dark] .colab-df-convert {\n",
              "      background-color: #3B4455;\n",
              "      fill: #D2E3FC;\n",
              "    }\n",
              "\n",
              "    [theme=dark] .colab-df-convert:hover {\n",
              "      background-color: #434B5C;\n",
              "      box-shadow: 0px 1px 3px 1px rgba(0, 0, 0, 0.15);\n",
              "      filter: drop-shadow(0px 1px 2px rgba(0, 0, 0, 0.3));\n",
              "      fill: #FFFFFF;\n",
              "    }\n",
              "  </style>\n",
              "\n",
              "      <script>\n",
              "        const buttonEl =\n",
              "          document.querySelector('#df-f4512132-71cf-4639-8cf7-00bd4e17e633 button.colab-df-convert');\n",
              "        buttonEl.style.display =\n",
              "          google.colab.kernel.accessAllowed ? 'block' : 'none';\n",
              "\n",
              "        async function convertToInteractive(key) {\n",
              "          const element = document.querySelector('#df-f4512132-71cf-4639-8cf7-00bd4e17e633');\n",
              "          const dataTable =\n",
              "            await google.colab.kernel.invokeFunction('convertToInteractive',\n",
              "                                                     [key], {});\n",
              "          if (!dataTable) return;\n",
              "\n",
              "          const docLinkHtml = 'Like what you see? Visit the ' +\n",
              "            '<a target=\"_blank\" href=https://colab.research.google.com/notebooks/data_table.ipynb>data table notebook</a>'\n",
              "            + ' to learn more about interactive tables.';\n",
              "          element.innerHTML = '';\n",
              "          dataTable['output_type'] = 'display_data';\n",
              "          await google.colab.output.renderOutput(dataTable, element);\n",
              "          const docLink = document.createElement('div');\n",
              "          docLink.innerHTML = docLinkHtml;\n",
              "          element.appendChild(docLink);\n",
              "        }\n",
              "      </script>\n",
              "    </div>\n",
              "  </div>\n",
              "  "
            ]
          },
          "metadata": {},
          "execution_count": 17
        }
      ]
    },
    {
      "cell_type": "code",
      "source": [
        "import datetime as dtime"
      ],
      "metadata": {
        "id": "AJA61neVwR9P"
      },
      "execution_count": 18,
      "outputs": []
    },
    {
      "cell_type": "markdown",
      "source": [
        "Creating lists that shows time when post was added with total numbers of comments"
      ],
      "metadata": {
        "id": "wzK0XOh8wmbs"
      }
    },
    {
      "cell_type": "code",
      "source": [
        "result_ask_list = []\n",
        "for row in ask_posts:\n",
        "  created_at = row[6]\n",
        "  comms = int(row[4])\n",
        "  result_ask_list.append([created_at, comms])"
      ],
      "metadata": {
        "id": "bC5UfCfwwV_l"
      },
      "execution_count": 19,
      "outputs": []
    },
    {
      "cell_type": "markdown",
      "source": [
        "Creating dictionaries that contains the number of ask posts created during each hour of the day and corresponding number of comments ask posts created at each hour received.\n"
      ],
      "metadata": {
        "id": "XQQ5ucr9xHMa"
      }
    },
    {
      "cell_type": "code",
      "source": [
        "ask_counts_by_hour = {}\n",
        "ask_comms_by_hour = {}\n",
        "\n",
        "for row in result_ask_list:\n",
        "  date = row[0]\n",
        "  comms = row[1]\n",
        "  hour = dtime.datetime.strptime(date, '%m/%d/%Y %H:%M').strftime('%H')\n",
        "\n",
        "  if hour not in ask_counts_by_hour:\n",
        "    ask_comms_by_hour[hour] = comms\n",
        "    ask_counts_by_hour[hour] = 1\n",
        "  else:\n",
        "    ask_comms_by_hour[hour] += comms\n",
        "    ask_counts_by_hour[hour] += 1"
      ],
      "metadata": {
        "id": "_S9p-yyew_l9"
      },
      "execution_count": 20,
      "outputs": []
    },
    {
      "cell_type": "markdown",
      "source": [
        "Creating a list that contains averge number of comments for each hour"
      ],
      "metadata": {
        "id": "Q0XWT-tg0HJp"
      }
    },
    {
      "cell_type": "code",
      "source": [
        "ask_avg_by_hour = []\n",
        "for row in ask_comms_by_hour:\n",
        "  ask_avg_by_hour.append([row, ask_comms_by_hour[row]/ask_counts_by_hour[row]])"
      ],
      "metadata": {
        "id": "r28pzl37xu6O"
      },
      "execution_count": 21,
      "outputs": []
    },
    {
      "cell_type": "markdown",
      "source": [
        "Swaping columns, so we can sort the list by averge comments in decending order"
      ],
      "metadata": {
        "id": "GuhcxmD40i-b"
      }
    },
    {
      "cell_type": "code",
      "source": [
        "swap_ask_avg_by_hour = []\n",
        "for row in ask_avg_by_hour:\n",
        "  swap_ask_avg_by_hour.append([row[1], row[0]])\n",
        "  \n",
        "sorted_swap_ask_avg_by_hour = sorted(swap_ask_avg_by_hour, reverse = True)"
      ],
      "metadata": {
        "id": "DxxMLRCcyKh0"
      },
      "execution_count": 22,
      "outputs": []
    },
    {
      "cell_type": "markdown",
      "source": [
        "Printing hours with the averge numbers of comments using str.format method"
      ],
      "metadata": {
        "id": "-Ub3L_8g06-n"
      }
    },
    {
      "cell_type": "code",
      "source": [
        "for row in sorted_swap_ask_avg_by_hour[:5]:\n",
        "    hour = dtime.datetime.strptime(row[1], \"%H\").strftime(\"%H:%M\")\n",
        "    print(f\"{hour}: {row[0]:.2f} average comments per post.\")"
      ],
      "metadata": {
        "colab": {
          "base_uri": "https://localhost:8080/"
        },
        "id": "Ty8RJa4-0fi3",
        "outputId": "393cf449-d6ee-4557-a2a1-e1bca9f965a0"
      },
      "execution_count": 23,
      "outputs": [
        {
          "output_type": "stream",
          "name": "stdout",
          "text": [
            "15:00: 38.59 average comments per post.\n",
            "02:00: 23.81 average comments per post.\n",
            "20:00: 21.52 average comments per post.\n",
            "16:00: 16.80 average comments per post.\n",
            "21:00: 16.01 average comments per post.\n"
          ]
        }
      ]
    },
    {
      "cell_type": "markdown",
      "source": [
        "A chance to recive a higher number of comments occurs if you post the question at 15.00"
      ],
      "metadata": {
        "id": "qFUbRi8ILn1i"
      }
    },
    {
      "cell_type": "markdown",
      "source": [
        "Creating lists that shows time when post was added with total numbers of comments"
      ],
      "metadata": {
        "id": "0taCYrqyLoi1"
      }
    },
    {
      "cell_type": "code",
      "source": [
        "result_show_list = []\n",
        "for row in show_posts:\n",
        "    created_at = row[6]\n",
        "    comms = int(row[4])\n",
        "    result_show_list.append([created_at, comms])"
      ],
      "metadata": {
        "id": "AezXUXT01D28"
      },
      "execution_count": 45,
      "outputs": []
    },
    {
      "cell_type": "markdown",
      "source": [
        "Creating dictionaries that contains the number of show posts created during each hour of the day and corresponding number of comments show posts created at each hour received."
      ],
      "metadata": {
        "id": "otYxGqUMN7fR"
      }
    },
    {
      "cell_type": "code",
      "source": [
        "show_counts_by_hour = {}\n",
        "show_comms_by_hour = {}\n",
        "\n",
        "for row in result_show_list:\n",
        "    date = row[0]\n",
        "    comms = row[1]\n",
        "    hour = dtime.datetime.strptime(date, '%m/%d/%Y %H:%M').strftime('%H')\n",
        "    \n",
        "    if hour not in show_counts_by_hour:\n",
        "        show_comms_by_hour[hour] = comms\n",
        "        show_counts_by_hour[hour] = 1\n",
        "    else:\n",
        "        show_comms_by_hour[hour] += comms\n",
        "        show_counts_by_hour[hour] += 1"
      ],
      "metadata": {
        "id": "NYXPrSERM55C"
      },
      "execution_count": 46,
      "outputs": []
    },
    {
      "cell_type": "markdown",
      "source": [
        "Creating a list that contains averge number of comments for each hour "
      ],
      "metadata": {
        "id": "coQZA-G8P2Iw"
      }
    },
    {
      "cell_type": "code",
      "source": [
        "show_avg_by_hour = []\n",
        "for row in show_comms_by_hour:\n",
        "    show_avg_by_hour.append([row, show_comms_by_hour[row]/ show_counts_by_hour[row]])"
      ],
      "metadata": {
        "id": "JyzZgHf0NMRY"
      },
      "execution_count": 47,
      "outputs": []
    },
    {
      "cell_type": "markdown",
      "source": [
        "Swaping columns, so we can sort the list by averge comments in decending order"
      ],
      "metadata": {
        "id": "4XX1wymCQVf4"
      }
    },
    {
      "cell_type": "code",
      "source": [
        "swap_show_avg_by_hour = []\n",
        "for row in show_avg_by_hour:\n",
        "    swap_show_avg_by_hour.append([row[1],row[0]])\n",
        "\n",
        "sorted_swap_show_avg_by_hour = sorted(swap_show_avg_by_hour, reverse = True)"
      ],
      "metadata": {
        "id": "A3MMR8NtPpIb"
      },
      "execution_count": 48,
      "outputs": []
    },
    {
      "cell_type": "markdown",
      "source": [
        "Printing hours with the averge numbers of comments using str.format method"
      ],
      "metadata": {
        "id": "Dzfq3NAGQrQz"
      }
    },
    {
      "cell_type": "code",
      "source": [
        "for row in sorted_swap_show_avg_by_hour[:5]:\n",
        "    hour = dtime.datetime.strptime(row[1], \"%H\").strftime(\"%H:%M\")\n",
        "    print(f\"{hour}: {row[0]:.2f} average comments per post.\")"
      ],
      "metadata": {
        "colab": {
          "base_uri": "https://localhost:8080/"
        },
        "id": "rTtozfWgQnYf",
        "outputId": "0c465171-55c3-438c-81ee-e2520bdd7652"
      },
      "execution_count": 49,
      "outputs": [
        {
          "output_type": "stream",
          "name": "stdout",
          "text": [
            "18:00: 15.77 average comments per post.\n",
            "00:00: 15.71 average comments per post.\n",
            "14:00: 13.44 average comments per post.\n",
            "23:00: 12.42 average comments per post.\n",
            "22:00: 12.39 average comments per post.\n"
          ]
        }
      ]
    },
    {
      "cell_type": "markdown",
      "source": [
        "A chance to recive a higher number of comments occurs if you post your thing at 18.00"
      ],
      "metadata": {
        "id": "kKmAiZgWSTWv"
      }
    },
    {
      "cell_type": "markdown",
      "source": [
        "Creating lists that shows time when post was added with total numbers of comments"
      ],
      "metadata": {
        "id": "NvXyoop2Sf2Q"
      }
    },
    {
      "cell_type": "code",
      "source": [
        "result_other_list = []\n",
        "for row in other_posts:\n",
        "    created_at = row[6]\n",
        "    comms = int(row[4])\n",
        "    result_other_list.append([created_at, comms])"
      ],
      "metadata": {
        "id": "V5VNWlzYSTMA"
      },
      "execution_count": 52,
      "outputs": []
    },
    {
      "cell_type": "markdown",
      "source": [
        "Creating dictionaries that contains the number of other posts created during each hour of the day and corresponding number of comments other posts created at each hour received."
      ],
      "metadata": {
        "id": "28kj74JDS5Wp"
      }
    },
    {
      "cell_type": "code",
      "source": [
        "other_counts_by_hour = {}\n",
        "other_comms_by_hour = {}\n",
        "\n",
        "for row in result_other_list:\n",
        "    date = row[0]\n",
        "    comms = row[1]\n",
        "    hour = dtime.datetime.strptime(date, '%m/%d/%Y %H:%M').strftime('%H')\n",
        "    \n",
        "    if hour not in other_counts_by_hour:\n",
        "        other_comms_by_hour[hour] = comms\n",
        "        other_counts_by_hour[hour] = 1\n",
        "    else:\n",
        "        other_comms_by_hour[hour] += comms\n",
        "        other_counts_by_hour[hour] += 1"
      ],
      "metadata": {
        "id": "yj5wDVfLRkDn"
      },
      "execution_count": 55,
      "outputs": []
    },
    {
      "cell_type": "markdown",
      "source": [
        "Creating a list that contains averge number of comments for each hour  "
      ],
      "metadata": {
        "id": "0VIfME4RWO6l"
      }
    },
    {
      "cell_type": "code",
      "source": [
        "other_avg_by_hour = []\n",
        "\n",
        "for row in other_comms_by_hour:\n",
        "  other_avg_by_hour.append([row, other_comms_by_hour[row]/other_counts_by_hour[row]])"
      ],
      "metadata": {
        "id": "1Xwszu1iV9J4"
      },
      "execution_count": 56,
      "outputs": []
    },
    {
      "cell_type": "markdown",
      "source": [
        "Swaping columns, so we can sort the list by averge comments in decending order"
      ],
      "metadata": {
        "id": "hupbRuamWimE"
      }
    },
    {
      "cell_type": "code",
      "source": [
        "swap_other_avg_by_hour = []\n",
        "\n",
        "for row in other_avg_by_hour:\n",
        "  swap_other_avg_by_hour.append([row[1],row[0]])\n",
        "\n",
        "sorted_swap_other_avg_by_hour = sorted(swap_other_avg_by_hour, reverse = True)"
      ],
      "metadata": {
        "id": "_ZxH1dXgWgOk"
      },
      "execution_count": 58,
      "outputs": []
    },
    {
      "cell_type": "markdown",
      "source": [
        "Printing hours with the averge numbers of comments using str.format method"
      ],
      "metadata": {
        "id": "52joaJp2XGwg"
      }
    },
    {
      "cell_type": "code",
      "source": [
        "for row in sorted_swap_other_avg_by_hour[:5]:\n",
        "  hour = dtime.datetime.strptime(row[1], '%H').strftime('%H:%M')\n",
        "  print(f\"{hour}: {row[0]:.2f} average comments per post.\")"
      ],
      "metadata": {
        "colab": {
          "base_uri": "https://localhost:8080/"
        },
        "id": "i8dRT5hFXCBB",
        "outputId": "f81c5efc-b2d2-49af-ea75-cceefc5ed186"
      },
      "execution_count": 60,
      "outputs": [
        {
          "output_type": "stream",
          "name": "stdout",
          "text": [
            "14:00: 32.33 average comments per post.\n",
            "13:00: 30.90 average comments per post.\n",
            "12:00: 30.35 average comments per post.\n",
            "11:00: 29.59 average comments per post.\n",
            "15:00: 29.52 average comments per post.\n"
          ]
        }
      ]
    },
    {
      "cell_type": "markdown",
      "source": [
        "A chance to recive a higher number of comments occurs if you post other type posts at 14.00"
      ],
      "metadata": {
        "id": "ultdIT75Xf8n"
      }
    },
    {
      "cell_type": "markdown",
      "source": [
        "**Summary**\n",
        "\n",
        "The data contains:\n",
        "* 1744 asking posts\n",
        "* 1162 showig posts\n",
        "* 17193 other posts\n",
        "\n",
        " - Total number of ask type posts comments is 24483 with the\n",
        "average number of comments = 14.\n",
        "A chance to recive a higher number of comments occurs if you post the question at 15.00\n",
        "\n",
        " - Total number of show type posts comments is 11988 with the\n",
        "average number of comments = 10. A chance to recive a higher number of comments occurs if you post your thing at 18.00\n",
        "\n",
        " - Total number of other type posts comments is 462045 with the\n",
        "average number of comments = 27. A chance to recive a higher number of comments occurs if you post other type posts at 14.00"
      ],
      "metadata": {
        "id": "6caVl_X4Xhw7"
      }
    },
    {
      "cell_type": "code",
      "source": [],
      "metadata": {
        "id": "YJYcHW1xZFys"
      },
      "execution_count": null,
      "outputs": []
    }
  ]
}